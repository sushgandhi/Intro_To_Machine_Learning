{
 "cells": [
  {
   "cell_type": "markdown",
   "metadata": {},
   "source": [
    "## Classification"
   ]
  },
  {
   "cell_type": "markdown",
   "metadata": {},
   "source": [
    "Classification problems are one of the most common problems in machine learning.\n",
    "\n",
    "Eg . - Email : Spam/Not Spam; Transaction : Fraud or not; Tumor Malignant or Benign.\n",
    "\n",
    "Classification can be multi classed or binary classification.\n",
    "\n",
    "Let's start with Binary Classification."
   ]
  },
  {
   "cell_type": "markdown",
   "metadata": {},
   "source": [
    "Applying <b>Linear Regression</b> to a classification problem is not greate idea."
   ]
  },
  {
   "cell_type": "markdown",
   "metadata": {},
   "source": [
    "For classification we know that Y(op/prediction) can be 0/1, classification of 2 things.\n",
    "\n",
    "And that is what training examples would have op as 0 or 1.\n",
    "\n",
    "but if we apply Linear Regression, We get the prediction value as anything >1 or <0."
   ]
  },
  {
   "cell_type": "markdown",
   "metadata": {},
   "source": [
    "We’d like for our predicted outputs to be 0 or 1, to indicate class membership. It’s\n",
    "fine if they’re between 0 and 1, since we can interpret these as probabilities—an\n",
    "output of 0.25 could mean 25% chance of being a paid member. But the outputs\n",
    "of the linear model can be huge positive numbers or even negative numbers,\n",
    "which it’s not clear how to interpret. "
   ]
  },
  {
   "cell_type": "markdown",
   "metadata": {},
   "source": [
    "we know that the actual values must be at most 1, which means that\n",
    "necessarily very large outputs (and therefore very large values of experience)\n",
    "correspond to very large negative values of the error term."
   ]
  },
  {
   "cell_type": "markdown",
   "metadata": {},
   "source": [
    "So for large positive numbers, they can correspond to prob close to 1 and for large negative values to correspond to probabilities of 0"
   ]
  },
  {
   "cell_type": "markdown",
   "metadata": {},
   "source": [
    "For classification Problems, One commonly used algorithm is <b> Logisitic Regression.</b>"
   ]
  },
  {
   "cell_type": "markdown",
   "metadata": {},
   "source": [
    "### Representaion"
   ]
  },
  {
   "cell_type": "markdown",
   "metadata": {},
   "source": [
    "When we had the Linear Regression Hypothesis. it was of the form.\n",
    "\n",
    "$h(X) = \\theta^T X$"
   ]
  },
  {
   "cell_type": "markdown",
   "metadata": {},
   "source": [
    "For Logistic Regression we take a <i>Logistic</i> function of the Above linear regression model.\n",
    "\n",
    "$h_\\theta (X) = g(\\theta^T X)$"
   ]
  },
  {
   "cell_type": "markdown",
   "metadata": {},
   "source": [
    "$$ \n",
    "g(z) = \\frac {1} {1 + e^{-z}}\n",
    "$$"
   ]
  },
  {
   "cell_type": "markdown",
   "metadata": {},
   "source": [
    "g(z) is called the sigmoid function or the logistic function"
   ]
  },
  {
   "cell_type": "markdown",
   "metadata": {},
   "source": [
    "<img src = \"img/logistic_func.png\">"
   ]
  },
  {
   "cell_type": "markdown",
   "metadata": {},
   "source": [
    "As its input gets large and positive, it gets closer and closer to 1. As its input gets large\n",
    "and negative, it gets closer and closer to 0."
   ]
  },
  {
   "cell_type": "markdown",
   "metadata": {},
   "source": [
    "$$\n",
    "h_\\theta (X) = \\frac {1} {1 + e^{-\\theta^T X}}\n",
    "$$"
   ]
  },
  {
   "cell_type": "markdown",
   "metadata": {},
   "source": [
    "##### interpretaion\n",
    "\n",
    "$h_\\theta(x) = $ Estimated Probability that y = 1 on input x\n",
    "\n",
    "Example :\n",
    "\n",
    "if $x = [ \\frac {x_0} {x_1}] = [\\frac {1}{tumorsize}]$\n",
    "\n",
    "and\n",
    "\n",
    "$h_\\theta(x) = $ 0.7\n",
    "\n",
    "There is a 70% chance of tumoe being malignant"
   ]
  },
  {
   "cell_type": "markdown",
   "metadata": {},
   "source": [
    "$$\n",
    "h_\\theta (x) = P (y =1|x;\\theta)\n",
    "$$"
   ]
  },
  {
   "cell_type": "markdown",
   "metadata": {},
   "source": [
    "Probability that y = 1 , given x, parameterized by $\\theta$"
   ]
  },
  {
   "cell_type": "markdown",
   "metadata": {},
   "source": [
    "^^ this is also called pdf(probability density function)"
   ]
  },
  {
   "cell_type": "markdown",
   "metadata": {},
   "source": [
    "##### Decision boundary"
   ]
  },
  {
   "cell_type": "markdown",
   "metadata": {},
   "source": [
    "<img src = \"img/decision_boundary.png\">"
   ]
  },
  {
   "cell_type": "code",
   "execution_count": null,
   "metadata": {
    "collapsed": true
   },
   "outputs": [],
   "source": []
  }
 ],
 "metadata": {
  "kernelspec": {
   "display_name": "Python 3",
   "language": "python",
   "name": "python3"
  },
  "language_info": {
   "codemirror_mode": {
    "name": "ipython",
    "version": 3
   },
   "file_extension": ".py",
   "mimetype": "text/x-python",
   "name": "python",
   "nbconvert_exporter": "python",
   "pygments_lexer": "ipython3",
   "version": "3.6.2"
  }
 },
 "nbformat": 4,
 "nbformat_minor": 2
}
