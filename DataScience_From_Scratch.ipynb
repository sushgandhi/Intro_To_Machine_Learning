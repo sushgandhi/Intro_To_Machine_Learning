{
 "cells": [
  {
   "cell_type": "markdown",
   "metadata": {},
   "source": [
    "### Data Science from Scratch\n",
    "\n",
    "This notebook covers the initiall chapters of summary and code of the incredible book Data Science From Scratch by Joel Grus.\n",
    "\n",
    "This book can be obtained from - \n",
    "\n",
    "http://amzn.in/dneqv2q"
   ]
  },
  {
   "cell_type": "markdown",
   "metadata": {},
   "source": [
    "#### Basics of Python"
   ]
  },
  {
   "cell_type": "code",
   "execution_count": 3,
   "metadata": {},
   "outputs": [
    {
     "data": {
      "text/plain": [
       "'\\nbasic packages needed for most python operations\\nthese are - regex for regular expression\\nmatplotlib for plotting\\ncolelctiosn for defaultdict and Counter\\n\\nIdeally you would need to import only the modules that you need in that particular funationaluty\\n'"
      ]
     },
     "execution_count": 3,
     "metadata": {},
     "output_type": "execute_result"
    }
   ],
   "source": [
    "'''\n",
    "basic packages needed for most python operations\n",
    "these are - regex for regular expression\n",
    "matplotlib for plotting\n",
    "colelctiosn for defaultdict and Counter\n",
    "\n",
    "Ideally you would need to import only the modules that you need in that particular funationaluty\n",
    "\n",
    "since we are using python 2.7 ( As recommended by the book)\n",
    "\n",
    "for floating point division we will have to import the division classs as well\n",
    "'''"
   ]
  },
  {
   "cell_type": "code",
   "execution_count": 7,
   "metadata": {},
   "outputs": [
    {
     "name": "stdout",
     "output_type": "stream",
     "text": [
      "Using matplotlib backend: MacOSX\n"
     ]
    }
   ],
   "source": [
    "import re\n",
    "from collections import defaultdict, Counter\n",
    "import matplotlib.pyplot as plt\n",
    "from __future__ import division\n",
    "\n",
    "%matplotlib"
   ]
  },
  {
   "cell_type": "markdown",
   "metadata": {},
   "source": [
    "^^ Some explanations of this. <br>\n",
    "whenever we say 'as' we are giving that package a shortname that can be referenced through the program.\n",
    "%matplotlib is a magic command for ipython sheel to show visualization within the notebook"
   ]
  },
  {
   "cell_type": "code",
   "execution_count": 8,
   "metadata": {
    "collapsed": true
   },
   "outputs": [],
   "source": [
    "# Functions\n",
    "# A function in python behaves much like any other language,\n",
    "# It is a set of instructions to be executed for taking 0 or more inputs and returning a\n",
    "# corresponging output.\n",
    "\n",
    "def double (x): # This is our function defination line\n",
    "    '''\n",
    "    This is a funciton doctring, typically containing for the function does\n",
    "    '''\n",
    "    return x*2 # this is our return statement."
   ]
  },
  {
   "cell_type": "code",
   "execution_count": 9,
   "metadata": {},
   "outputs": [
    {
     "data": {
      "text/plain": [
       "4"
      ]
     },
     "execution_count": 9,
     "metadata": {},
     "output_type": "execute_result"
    }
   ],
   "source": [
    "my_dub = double(2)\n",
    "my_dub"
   ]
  },
  {
   "cell_type": "markdown",
   "metadata": {},
   "source": [
    "for small functions, we can create lambdas(anonymous functions)"
   ]
  }
 ],
 "metadata": {
  "anaconda-cloud": {},
  "kernelspec": {
   "display_name": "Python [conda env:mlndenv]",
   "language": "python",
   "name": "conda-env-mlndenv-py"
  },
  "language_info": {
   "codemirror_mode": {
    "name": "ipython",
    "version": 2
   },
   "file_extension": ".py",
   "mimetype": "text/x-python",
   "name": "python",
   "nbconvert_exporter": "python",
   "pygments_lexer": "ipython2",
   "version": "2.7.13"
  }
 },
 "nbformat": 4,
 "nbformat_minor": 2
}
