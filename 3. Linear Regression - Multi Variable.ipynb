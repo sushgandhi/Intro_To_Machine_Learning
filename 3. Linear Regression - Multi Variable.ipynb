{
 "cells": [
  {
   "cell_type": "markdown",
   "metadata": {},
   "source": [
    "### Multivariate Linear Regression"
   ]
  },
  {
   "cell_type": "markdown",
   "metadata": {},
   "source": [
    "##### Multiple Features"
   ]
  },
  {
   "cell_type": "markdown",
   "metadata": {},
   "source": [
    "In previos secttion we had only 1 feature...\n",
    "\n",
    "Now again considering the house price estimation.\n",
    "\n",
    "Instead of having single feature - Size of house.\n",
    "\n",
    "We have multiple feautures - eg -  Size, Number of Bedrooms, Number of Floors, Age of house"
   ]
  },
  {
   "cell_type": "markdown",
   "metadata": {},
   "source": [
    "Denotion\n",
    "\n",
    "4 feautes we can say they are $x_1, x_2, x_3, x_4$\n",
    "\n",
    "n = 4 (Number of features)\n",
    "\n",
    "$x^i$ = input(features) of i th training example\n",
    "\n",
    "$x_j^i$ = jth feature of ith training example"
   ]
  },
  {
   "cell_type": "markdown",
   "metadata": {},
   "source": [
    "So for each (x) we can denote it as a vector of 4 features\n",
    "\n",
    "$x^2$ = [11,121,13,34]\n",
    "\n",
    "here 2 in $x^2$ denotes the 2nd training example (ith training example i=2)\n",
    "\n"
   ]
  },
  {
   "cell_type": "markdown",
   "metadata": {},
   "source": [
    "###### Representaion"
   ]
  },
  {
   "cell_type": "markdown",
   "metadata": {},
   "source": [
    "SIngle varibale -\n",
    "\n",
    "$h_\\theta (x) = \\theta_0 + \\theta_1 (x)$\n",
    "\n",
    "For multiple variables\n",
    "\n",
    "$h_\\theta(x) = \\theta_1 x_1 + \\theta_2 x_2 + \\theta_3 x_3 + \\theta_4 x_4 + ..... + \\theta_n x_n$"
   ]
  },
  {
   "cell_type": "markdown",
   "metadata": {},
   "source": [
    "so our input x vector is\n",
    "\n",
    "x = [x_0,x_1,x_2,..,x_n]\n",
    "$\\theta = [\\theta_0,\\theta_1,\\theta_2,...\\theta_n ] $"
   ]
  },
  {
   "cell_type": "markdown",
   "metadata": {},
   "source": [
    "$h_\\theta (x) = \\theta_0 x_0 + \\theta_1 x_1 + ... + \\theta_n x_n $\n",
    "\n",
    "and this is equivaluent to\n",
    "\n",
    "$h_\\theta (x) = \\theta^T X$\n",
    "\n",
    "($\\theta$ Transpose into X)"
   ]
  },
  {
   "cell_type": "markdown",
   "metadata": {},
   "source": [
    "##### Gradient Descent for Multiple Variables"
   ]
  },
  {
   "cell_type": "markdown",
   "metadata": {},
   "source": [
    "$$\n",
    "\\theta_j = \\theta_j - \\alpha \\frac {\\partial} {\\partial \\theta_j} J (\\theta_0,...\\theta_n)\n",
    "$$"
   ]
  },
  {
   "cell_type": "markdown",
   "metadata": {},
   "source": [
    "^^ Repeat this and simultaneosly update for j= 0,..,n"
   ]
  },
  {
   "cell_type": "markdown",
   "metadata": {},
   "source": [
    "the updated formula for multiple varaibles will be like"
   ]
  },
  {
   "cell_type": "markdown",
   "metadata": {},
   "source": [
    "$$\n",
    "\\theta_j = \\theta_j - \\alpha \\frac {1}{m} \\sum_{1=1}^m (h_\\theta (x^i - y^i) x_j^i\n",
    "$$"
   ]
  },
  {
   "cell_type": "markdown",
   "metadata": {},
   "source": [
    "#### Tricks to make gradient descent work well\n",
    "\n",
    "<b> Feature Scaling </b>"
   ]
  },
  {
   "cell_type": "markdown",
   "metadata": {},
   "source": [
    "If we have multiple feautures.\n",
    "\n",
    "Make sure that features are on similar case.\n",
    "\n",
    "i.e different features can take similar range of values.\n",
    "\n",
    "##### Gradient Descent\n",
    "\n",
    "Get every every feature is $ -1 < x_i <= 1 $range\n"
   ]
  },
  {
   "cell_type": "markdown",
   "metadata": {},
   "source": [
    "so that each feature are close enough to the gradient descent.\n"
   ]
  },
  {
   "cell_type": "markdown",
   "metadata": {},
   "source": [
    "##### Mean normalization"
   ]
  },
  {
   "cell_type": "markdown",
   "metadata": {},
   "source": [
    "$$\n",
    "x_i = \\frac {x_1(original_value) - \\mu_i(average_value)} {S_i(range)}\n",
    "$$"
   ]
  },
  {
   "cell_type": "markdown",
   "metadata": {},
   "source": [
    "this is done to get all the values in specific mangeable range\n"
   ]
  },
  {
   "cell_type": "markdown",
   "metadata": {},
   "source": [
    "#### Making sure gradient descent is working correctly"
   ]
  },
  {
   "cell_type": "markdown",
   "metadata": {},
   "source": [
    "Plot the $J(\\theta)$ as the gradient descent runs"
   ]
  },
  {
   "cell_type": "markdown",
   "metadata": {},
   "source": [
    "<img src = \"img/grad_desc_10.png\">"
   ]
  },
  {
   "cell_type": "markdown",
   "metadata": {},
   "source": [
    "$J(\\theta) should decrease after every iteration\n",
    "\n",
    "ANd the curve flattens out after some time.\n",
    "\n",
    "Idea is to plot this graph continusly"
   ]
  },
  {
   "cell_type": "markdown",
   "metadata": {},
   "source": [
    "If gradient descent is not working..\n",
    "\n",
    "THat is maybe this plot is not turning out to be like this....\n",
    "\n",
    "It is an indiacation that maybe we should be using a different learning rate $\\alpha$"
   ]
  },
  {
   "cell_type": "markdown",
   "metadata": {},
   "source": [
    "If $\\alpha$ is small then $J(\\theta)$ should decrease on every iteration.\n",
    "\n",
    "But if $\\alpha$ is too small then gradient descent will be slow to converge"
   ]
  },
  {
   "cell_type": "markdown",
   "metadata": {},
   "source": [
    "##### Feature Selection and creation (Feature Engineering)"
   ]
  },
  {
   "cell_type": "markdown",
   "metadata": {},
   "source": [
    "Feature Selection is one of the most important concept in learning algorithms.\n",
    "\n",
    "As by selecting or creating the right features we can have a vastly different results of our learning alogrithms.\n",
    "\n"
   ]
  },
  {
   "cell_type": "markdown",
   "metadata": {},
   "source": [
    "eg - >\n",
    "\n",
    "If house price depends on frontage and depth \n",
    "\n",
    "So in actuality the price depends on Area..."
   ]
  },
  {
   "cell_type": "markdown",
   "metadata": {},
   "source": [
    "### Polynomial Regression"
   ]
  },
  {
   "cell_type": "markdown",
   "metadata": {},
   "source": [
    "Sometime a linear model doesn't fit the data...\n",
    "\n",
    "for exmaple...\n"
   ]
  },
  {
   "cell_type": "markdown",
   "metadata": {},
   "source": [
    "<img src = \"img/grad_desc_9.png\">"
   ]
  },
  {
   "cell_type": "markdown",
   "metadata": {},
   "source": [
    "so we can do following feature enginerring"
   ]
  },
  {
   "cell_type": "markdown",
   "metadata": {},
   "source": [
    "$$\n",
    "x_1 = (size)\n",
    "x_2 = (size)^2\n",
    "x_3 = (size)^3\n",
    "$$"
   ]
  },
  {
   "cell_type": "markdown",
   "metadata": {},
   "source": [
    "Summary :\n",
    "\n",
    "<img src = \"img/multi_reg.png\">"
   ]
  },
  {
   "cell_type": "markdown",
   "metadata": {},
   "source": [
    "### Normal Equation\n",
    "(only good for linear regression)"
   ]
  },
  {
   "cell_type": "markdown",
   "metadata": {},
   "source": [
    "one way to calculate $\\theta$ is to use gradient descent...\n",
    "\n",
    "another is to use <b> normal equation </b>"
   ]
  },
  {
   "cell_type": "markdown",
   "metadata": {},
   "source": [
    "Normal Equation states that when we have $\\theta$ can be any of N+1 Dimensions.\n",
    "\n"
   ]
  },
  {
   "cell_type": "markdown",
   "metadata": {},
   "source": [
    "<img src = \"img/normla_equation.png\">"
   ]
  },
  {
   "cell_type": "markdown",
   "metadata": {},
   "source": [
    "We come to this equaiton by oing partial derivative of the cost funtion against each of $\\theta_1,\\theta_2...\\theta_n$"
   ]
  },
  {
   "cell_type": "markdown",
   "metadata": {},
   "source": [
    "With normal equation, there is no need to feature scaling.\n",
    "\n",
    "<img src = \"img/nomal_eq_grad_desc.png\">"
   ]
  },
  {
   "cell_type": "markdown",
   "metadata": {},
   "source": [
    "So the normal equation is -"
   ]
  },
  {
   "cell_type": "markdown",
   "metadata": {},
   "source": [
    "$$\n",
    "\\theta = (X^T X)^i X^T y\n",
    "$$"
   ]
  },
  {
   "cell_type": "markdown",
   "metadata": {},
   "source": [
    "X^T is X transopse \n",
    "\n",
    "i power is inverse of the result"
   ]
  },
  {
   "cell_type": "markdown",
   "metadata": {},
   "source": [
    "If $X^T X$ is non invertible\n",
    "\n",
    "- There are redundant features\n",
    "- There are too many features\n",
    "- Regularixzation of features is needed"
   ]
  },
  {
   "cell_type": "code",
   "execution_count": null,
   "metadata": {
    "collapsed": true
   },
   "outputs": [],
   "source": []
  }
 ],
 "metadata": {
  "kernelspec": {
   "display_name": "Python 3",
   "language": "python",
   "name": "python3"
  },
  "language_info": {
   "codemirror_mode": {
    "name": "ipython",
    "version": 3
   },
   "file_extension": ".py",
   "mimetype": "text/x-python",
   "name": "python",
   "nbconvert_exporter": "python",
   "pygments_lexer": "ipython3",
   "version": "3.6.2"
  }
 },
 "nbformat": 4,
 "nbformat_minor": 2
}
