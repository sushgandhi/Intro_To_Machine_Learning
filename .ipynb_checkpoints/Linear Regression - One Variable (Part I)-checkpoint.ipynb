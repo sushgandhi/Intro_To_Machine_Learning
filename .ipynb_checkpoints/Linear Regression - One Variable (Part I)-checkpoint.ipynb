{
 "cells": [
  {
   "cell_type": "markdown",
   "metadata": {},
   "source": [
    "#### Model Representation"
   ]
  },
  {
   "cell_type": "code",
   "execution_count": 1,
   "metadata": {
    "collapsed": true
   },
   "outputs": [],
   "source": [
    "import pandas as pd\n",
    "import numpy as np\n",
    "import matplotlib.pyplot as plt\n",
    "import seaborn as sns"
   ]
  },
  {
   "cell_type": "markdown",
   "metadata": {},
   "source": [
    "###### Supervised Learning \n",
    "\n",
    "Given the \"Right Answer\" for each example of Data. <br>\n",
    "\n",
    "One of the most common example of Supervised learning algorithm is the Houseing Price prediction based size of the house\n"
   ]
  },
  {
   "cell_type": "code",
   "execution_count": 5,
   "metadata": {
    "collapsed": true
   },
   "outputs": [],
   "source": [
    "data = np.loadtxt(\"ex1data2.txt\",dtype=np.float64,delimiter=\",\")"
   ]
  },
  {
   "cell_type": "code",
   "execution_count": 6,
   "metadata": {
    "collapsed": true
   },
   "outputs": [],
   "source": [
    "X = data[::,0:2]\n",
    "Y = data[::,-1:]"
   ]
  },
  {
   "cell_type": "code",
   "execution_count": 8,
   "metadata": {
    "collapsed": false
   },
   "outputs": [
    {
     "data": {
      "image/png": "[encoded data removed]",
      "text/plain": [
       "<matplotlib.figure.Figure at 0x10fee6b00>"
      ]
     },
     "metadata": {},
     "output_type": "display_data"
    }
   ],
   "source": [
    "plt.scatter(X[::,0:1],Y)\n",
    "plt.xlabel(\"Size of house (X)\")\n",
    "plt.ylabel(\"Price (Y)\")\n",
    "plt.show()"
   ]
  },
  {
   "cell_type": "markdown",
   "metadata": {},
   "source": [
    "^^ Based on the above distribution we can recommedn someone that, if they have a house of size 1250 sq feet, they can exepct somewhere in between 200000 and 30000"
   ]
  },
  {
   "cell_type": "markdown",
   "metadata": {},
   "source": [
    "This is an example of regression problem, where we predict a real valued output."
   ]
  },
  {
   "cell_type": "markdown",
   "metadata": {},
   "source": [
    "The other common type of problem is the classification problem, where we predict the discrete values"
   ]
  },
  {
   "cell_type": "markdown",
   "metadata": {},
   "source": [
    "In Supervised Learning, we have a training set. <br>\n",
    "Our job is to predict the value based on the training set. <br>\n",
    "\n",
    "Notation being used :\n",
    "\n",
    "m   = Number of training example<br>\n",
    "x's = \"input\" variable/features<br>\n",
    "y's = \"output\" variable/target<br>\n",
    "<br>\n",
    "(x,y) - one training example\n",
    "\n",
    "($x^i,y^i$) - ith training example\n",
    "\n",
    "Here i is just an index in the training set"
   ]
  },
  {
   "cell_type": "markdown",
   "metadata": {},
   "source": [
    "Here is how the flow works : \n",
    "<br>\n",
    "Training Set --> learning Algorithm --> h <br>\n",
    "<br>\n",
    "Here 'h' is the 'hypothesis'\n",
    "<br>\n",
    "in case of housing price prediction problem :\n",
    "\n",
    "\n",
    "Size of House (X) --> 'h'('hypothesis') --> Estimated price (Estimate value of 'y')\n",
    "\n",
    "h maps from x's to y's"
   ]
  },
  {
   "cell_type": "markdown",
   "metadata": {},
   "source": [
    "how do we represent h??\n",
    "\n",
    "$h_\\theta(x) = \\theta_0 + \\theta_1 (x)$\n",
    "\n",
    "shorthand : h(x)\n",
    "\n",
    "$h(x) = \\theta_0 + \\theta_1(x)$"
   ]
  },
  {
   "cell_type": "markdown",
   "metadata": {},
   "source": [
    "^^ This is Linear Regression in One Variable"
   ]
  },
  {
   "cell_type": "markdown",
   "metadata": {},
   "source": [
    "#### Cost Function"
   ]
  },
  {
   "cell_type": "markdown",
   "metadata": {},
   "source": [
    "In the above explanantion\n",
    "\n",
    "$\\theta_0  and  \\theta_1$ are called parameter's of the model."
   ]
  },
  {
   "cell_type": "markdown",
   "metadata": {},
   "source": [
    "Now how to choose $\\theta$\n",
    "\n",
    "For different values of $\\theta$ we will have different hypothesis function"
   ]
  },
  {
   "cell_type": "markdown",
   "metadata": {},
   "source": [
    "<img src=\"img/hyp_param.png\">"
   ]
  },
  {
   "cell_type": "markdown",
   "metadata": {},
   "source": [
    "So for the training set, we have to come up with values of $\\theta$ so that y of the example is close to the training example"
   ]
  },
  {
   "cell_type": "markdown",
   "metadata": {},
   "source": [
    "So in linear regression we are gonna basically solve a minimization problem. <br>\n",
    "\n",
    "We need to minimize the $\\theta_0$ and $\\theta_!$\n",
    "\n",
    "So we need to minimize the difference between h(x) and y\n",
    "\n",
    "i.e the 1 over 2m times (Average) of the sum of squared errors(error being diff bw h(x) and y) is minimized"
   ]
  },
  {
   "cell_type": "markdown",
   "metadata": {},
   "source": [
    "$$J(\\theta_0,\\theta_1) = \\frac{1}{2m}\\sum_{i=1}^m (h_0(x^i)-y^i)^2$$"
   ]
  },
  {
   "cell_type": "markdown",
   "metadata": {},
   "source": [
    "^^ this is our cost function.\n",
    "\n",
    "We have to minimize our cost function.\n",
    "\n",
    "This is also called the square error function"
   ]
  },
  {
   "cell_type": "markdown",
   "metadata": {},
   "source": [
    "<img src=\"img/plot_h_j.png\">"
   ]
  },
  {
   "cell_type": "markdown",
   "metadata": {},
   "source": [
    "<img src=\"img/plot_h_j_2.png\">"
   ]
  },
  {
   "cell_type": "markdown",
   "metadata": {},
   "source": [
    "<img src=\"img/plot_min_j.png\">"
   ]
  },
  {
   "cell_type": "markdown",
   "metadata": {},
   "source": [
    "^^ Here we can see that for different values of $\\theta$ we get different values of $J(\\theta_1)$"
   ]
  },
  {
   "cell_type": "markdown",
   "metadata": {},
   "source": [
    "Now for these different values, our goal is to minimize the $J(\\theta)$\n",
    "\n",
    "Which from above examples we can see that it is in when $\\theta_1$ is 1"
   ]
  },
  {
   "cell_type": "markdown",
   "metadata": {},
   "source": [
    "Now this will be our model/objective, sw - to find the values if $\\theta_0 and \\theta_1$ so that cost function is minimised"
   ]
  },
  {
   "cell_type": "code",
   "execution_count": null,
   "metadata": {
    "collapsed": true
   },
   "outputs": [],
   "source": []
  }
 ],
 "metadata": {
  "anaconda-cloud": {},
  "kernelspec": {
   "display_name": "Python 2",
   "language": "python",
   "name": "python2"
  },
  "language_info": {
   "codemirror_mode": {
    "name": "ipython",
    "version": 2
   },
   "file_extension": ".py",
   "mimetype": "text/x-python",
   "name": "python",
   "nbconvert_exporter": "python",
   "pygments_lexer": "ipython2",
   "version": "2.7.13"
  }
 },
 "nbformat": 4,
 "nbformat_minor": 2
}
